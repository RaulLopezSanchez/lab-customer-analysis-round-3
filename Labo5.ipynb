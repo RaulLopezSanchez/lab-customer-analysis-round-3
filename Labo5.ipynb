{
 "cells": [
  {
   "cell_type": "code",
   "execution_count": 1,
   "id": "1627b860",
   "metadata": {},
   "outputs": [],
   "source": [
    "import pandas as pd\n",
    "import numpy as np"
   ]
  },
  {
   "cell_type": "code",
   "execution_count": 2,
   "id": "9baf8651",
   "metadata": {},
   "outputs": [],
   "source": [
    "data = pd.read_csv('files_for_lab/csv_files/marketing_customer_analysis.csv')"
   ]
  },
  {
   "cell_type": "code",
   "execution_count": 3,
   "id": "190a9d89",
   "metadata": {},
   "outputs": [
    {
     "name": "stdout",
     "output_type": "stream",
     "text": [
      "Dataframe shape: (9134, 24)\n"
     ]
    }
   ],
   "source": [
    "print(\"Dataframe shape:\", data.shape)"
   ]
  },
  {
   "cell_type": "code",
   "execution_count": 4,
   "id": "e1feb26d",
   "metadata": {},
   "outputs": [
    {
     "name": "stdout",
     "output_type": "stream",
     "text": [
      "     Customer       State  Customer Lifetime Value Response  Coverage  \\\n",
      "0     BU79786  Washington              2763.519279       No     Basic   \n",
      "1     QZ44356     Arizona              6979.535903       No  Extended   \n",
      "2     AI49188      Nevada             12887.431650       No   Premium   \n",
      "3     WW63253  California              7645.861827       No     Basic   \n",
      "4     HB64268  Washington              2813.692575       No     Basic   \n",
      "...       ...         ...                      ...      ...       ...   \n",
      "9129  LA72316  California             23405.987980       No     Basic   \n",
      "9130  PK87824  California              3096.511217      Yes  Extended   \n",
      "9131  TD14365  California              8163.890428       No  Extended   \n",
      "9132  UP19263  California              7524.442436       No  Extended   \n",
      "9133  Y167826  California              2611.836866       No  Extended   \n",
      "\n",
      "     Education Effective To Date EmploymentStatus Gender  Income  ...  \\\n",
      "0     Bachelor           2/24/11         Employed      F   56274  ...   \n",
      "1     Bachelor           1/31/11       Unemployed      F       0  ...   \n",
      "2     Bachelor           2/19/11         Employed      F   48767  ...   \n",
      "3     Bachelor           1/20/11       Unemployed      M       0  ...   \n",
      "4     Bachelor            2/3/11         Employed      M   43836  ...   \n",
      "...        ...               ...              ...    ...     ...  ...   \n",
      "9129  Bachelor           2/10/11         Employed      M   71941  ...   \n",
      "9130   College           2/12/11         Employed      F   21604  ...   \n",
      "9131  Bachelor            2/6/11       Unemployed      M       0  ...   \n",
      "9132   College            2/3/11         Employed      M   21941  ...   \n",
      "9133   College           2/14/11       Unemployed      M       0  ...   \n",
      "\n",
      "     Months Since Policy Inception Number of Open Complaints  \\\n",
      "0                                5                         0   \n",
      "1                               42                         0   \n",
      "2                               38                         0   \n",
      "3                               65                         0   \n",
      "4                               44                         0   \n",
      "...                            ...                       ...   \n",
      "9129                            89                         0   \n",
      "9130                            28                         0   \n",
      "9131                            37                         3   \n",
      "9132                             3                         0   \n",
      "9133                            90                         0   \n",
      "\n",
      "      Number of Policies     Policy Type        Policy  Renew Offer Type  \\\n",
      "0                      1  Corporate Auto  Corporate L3            Offer1   \n",
      "1                      8   Personal Auto   Personal L3            Offer3   \n",
      "2                      2   Personal Auto   Personal L3            Offer1   \n",
      "3                      7  Corporate Auto  Corporate L2            Offer1   \n",
      "4                      1   Personal Auto   Personal L1            Offer1   \n",
      "...                  ...             ...           ...               ...   \n",
      "9129                   2   Personal Auto   Personal L1            Offer2   \n",
      "9130                   1  Corporate Auto  Corporate L3            Offer1   \n",
      "9131                   2  Corporate Auto  Corporate L2            Offer1   \n",
      "9132                   3   Personal Auto   Personal L2            Offer3   \n",
      "9133                   1  Corporate Auto  Corporate L3            Offer4   \n",
      "\n",
      "      Sales Channel Total Claim Amount  Vehicle Class Vehicle Size  \n",
      "0             Agent         384.811147   Two-Door Car      Medsize  \n",
      "1             Agent        1131.464935  Four-Door Car      Medsize  \n",
      "2             Agent         566.472247   Two-Door Car      Medsize  \n",
      "3       Call Center         529.881344            SUV      Medsize  \n",
      "4             Agent         138.130879  Four-Door Car      Medsize  \n",
      "...             ...                ...            ...          ...  \n",
      "9129            Web         198.234764  Four-Door Car      Medsize  \n",
      "9130         Branch         379.200000  Four-Door Car      Medsize  \n",
      "9131         Branch         790.784983  Four-Door Car      Medsize  \n",
      "9132         Branch         691.200000  Four-Door Car        Large  \n",
      "9133    Call Center         369.600000   Two-Door Car      Medsize  \n",
      "\n",
      "[9134 rows x 24 columns]\n"
     ]
    }
   ],
   "source": [
    "print(data)"
   ]
  },
  {
   "cell_type": "code",
   "execution_count": 5,
   "id": "c0bd6c64",
   "metadata": {},
   "outputs": [],
   "source": [
    "data.columns = data.columns.str.lower().str.replace(' ', '_')"
   ]
  },
  {
   "cell_type": "code",
   "execution_count": 6,
   "id": "e0ea779d",
   "metadata": {},
   "outputs": [
    {
     "name": "stdout",
     "output_type": "stream",
     "text": [
      "     customer       state  customer_lifetime_value response  coverage  \\\n",
      "0     BU79786  Washington              2763.519279       No     Basic   \n",
      "1     QZ44356     Arizona              6979.535903       No  Extended   \n",
      "2     AI49188      Nevada             12887.431650       No   Premium   \n",
      "3     WW63253  California              7645.861827       No     Basic   \n",
      "4     HB64268  Washington              2813.692575       No     Basic   \n",
      "...       ...         ...                      ...      ...       ...   \n",
      "9129  LA72316  California             23405.987980       No     Basic   \n",
      "9130  PK87824  California              3096.511217      Yes  Extended   \n",
      "9131  TD14365  California              8163.890428       No  Extended   \n",
      "9132  UP19263  California              7524.442436       No  Extended   \n",
      "9133  Y167826  California              2611.836866       No  Extended   \n",
      "\n",
      "     education effective_to_date employmentstatus gender  income  ...  \\\n",
      "0     Bachelor           2/24/11         Employed      F   56274  ...   \n",
      "1     Bachelor           1/31/11       Unemployed      F       0  ...   \n",
      "2     Bachelor           2/19/11         Employed      F   48767  ...   \n",
      "3     Bachelor           1/20/11       Unemployed      M       0  ...   \n",
      "4     Bachelor            2/3/11         Employed      M   43836  ...   \n",
      "...        ...               ...              ...    ...     ...  ...   \n",
      "9129  Bachelor           2/10/11         Employed      M   71941  ...   \n",
      "9130   College           2/12/11         Employed      F   21604  ...   \n",
      "9131  Bachelor            2/6/11       Unemployed      M       0  ...   \n",
      "9132   College            2/3/11         Employed      M   21941  ...   \n",
      "9133   College           2/14/11       Unemployed      M       0  ...   \n",
      "\n",
      "     months_since_policy_inception number_of_open_complaints  \\\n",
      "0                                5                         0   \n",
      "1                               42                         0   \n",
      "2                               38                         0   \n",
      "3                               65                         0   \n",
      "4                               44                         0   \n",
      "...                            ...                       ...   \n",
      "9129                            89                         0   \n",
      "9130                            28                         0   \n",
      "9131                            37                         3   \n",
      "9132                             3                         0   \n",
      "9133                            90                         0   \n",
      "\n",
      "      number_of_policies     policy_type        policy  renew_offer_type  \\\n",
      "0                      1  Corporate Auto  Corporate L3            Offer1   \n",
      "1                      8   Personal Auto   Personal L3            Offer3   \n",
      "2                      2   Personal Auto   Personal L3            Offer1   \n",
      "3                      7  Corporate Auto  Corporate L2            Offer1   \n",
      "4                      1   Personal Auto   Personal L1            Offer1   \n",
      "...                  ...             ...           ...               ...   \n",
      "9129                   2   Personal Auto   Personal L1            Offer2   \n",
      "9130                   1  Corporate Auto  Corporate L3            Offer1   \n",
      "9131                   2  Corporate Auto  Corporate L2            Offer1   \n",
      "9132                   3   Personal Auto   Personal L2            Offer3   \n",
      "9133                   1  Corporate Auto  Corporate L3            Offer4   \n",
      "\n",
      "      sales_channel total_claim_amount  vehicle_class vehicle_size  \n",
      "0             Agent         384.811147   Two-Door Car      Medsize  \n",
      "1             Agent        1131.464935  Four-Door Car      Medsize  \n",
      "2             Agent         566.472247   Two-Door Car      Medsize  \n",
      "3       Call Center         529.881344            SUV      Medsize  \n",
      "4             Agent         138.130879  Four-Door Car      Medsize  \n",
      "...             ...                ...            ...          ...  \n",
      "9129            Web         198.234764  Four-Door Car      Medsize  \n",
      "9130         Branch         379.200000  Four-Door Car      Medsize  \n",
      "9131         Branch         790.784983  Four-Door Car      Medsize  \n",
      "9132         Branch         691.200000  Four-Door Car        Large  \n",
      "9133    Call Center         369.600000   Two-Door Car      Medsize  \n",
      "\n",
      "[9134 rows x 24 columns]\n"
     ]
    }
   ],
   "source": [
    "print(data)"
   ]
  },
  {
   "cell_type": "code",
   "execution_count": 7,
   "id": "2ac34ab3",
   "metadata": {},
   "outputs": [
    {
     "name": "stdout",
     "output_type": "stream",
     "text": [
      "Numerical columns: ['customer_lifetime_value', 'income', 'monthly_premium_auto', 'months_since_last_claim', 'months_since_policy_inception', 'number_of_open_complaints', 'number_of_policies', 'total_claim_amount']\n"
     ]
    }
   ],
   "source": [
    "num_cols = data.select_dtypes(include=[np.number]).columns.tolist()\n",
    "print(\"Numerical columns:\", num_cols)"
   ]
  },
  {
   "cell_type": "code",
   "execution_count": 8,
   "id": "9cccbac1",
   "metadata": {},
   "outputs": [
    {
     "name": "stdout",
     "output_type": "stream",
     "text": [
      "Categorical columns: ['customer', 'state', 'response', 'coverage', 'education', 'effective_to_date', 'employmentstatus', 'gender', 'location_code', 'marital_status', 'policy_type', 'policy', 'renew_offer_type', 'sales_channel', 'vehicle_class', 'vehicle_size']\n"
     ]
    }
   ],
   "source": [
    "cat_cols = data.select_dtypes(include=['object']).columns.tolist()\n",
    "print(\"Categorical columns:\", cat_cols)"
   ]
  },
  {
   "cell_type": "code",
   "execution_count": 9,
   "id": "908c8624",
   "metadata": {},
   "outputs": [
    {
     "name": "stdout",
     "output_type": "stream",
     "text": [
      "Null values:\n",
      " customer                         0\n",
      "state                            0\n",
      "customer_lifetime_value          0\n",
      "response                         0\n",
      "coverage                         0\n",
      "education                        0\n",
      "effective_to_date                0\n",
      "employmentstatus                 0\n",
      "gender                           0\n",
      "income                           0\n",
      "location_code                    0\n",
      "marital_status                   0\n",
      "monthly_premium_auto             0\n",
      "months_since_last_claim          0\n",
      "months_since_policy_inception    0\n",
      "number_of_open_complaints        0\n",
      "number_of_policies               0\n",
      "policy_type                      0\n",
      "policy                           0\n",
      "renew_offer_type                 0\n",
      "sales_channel                    0\n",
      "total_claim_amount               0\n",
      "vehicle_class                    0\n",
      "vehicle_size                     0\n",
      "dtype: int64\n"
     ]
    }
   ],
   "source": [
    "null_counts = data.isnull().sum()\n",
    "print(\"Null values:\\n\", null_counts)"
   ]
  },
  {
   "cell_type": "code",
   "execution_count": 10,
   "id": "09f1d503",
   "metadata": {
    "scrolled": true
   },
   "outputs": [
    {
     "name": "stdout",
     "output_type": "stream",
     "text": [
      "0     2/24/11\n",
      "1     1/31/11\n",
      "2     2/19/11\n",
      "3     1/20/11\n",
      "4      2/3/11\n",
      "5     1/25/11\n",
      "6     2/24/11\n",
      "7     1/18/11\n",
      "8     1/26/11\n",
      "9     2/17/11\n",
      "10    2/21/11\n",
      "11     1/6/11\n",
      "12     2/6/11\n",
      "13    1/10/11\n",
      "14    1/18/11\n",
      "15    1/17/11\n",
      "16     2/6/11\n",
      "17     1/5/11\n",
      "18    2/27/11\n",
      "19    1/14/11\n",
      "20    2/19/11\n",
      "21    1/21/11\n",
      "22    1/26/11\n",
      "23    2/24/11\n",
      "24     2/5/11\n",
      "25    1/29/11\n",
      "26    2/28/11\n",
      "27    2/12/11\n",
      "28     2/2/11\n",
      "29     2/7/11\n",
      "30    2/28/11\n",
      "31    1/22/11\n",
      "32    1/25/11\n",
      "33    1/18/11\n",
      "34    2/13/11\n",
      "35    1/15/11\n",
      "36     1/8/11\n",
      "37     2/6/11\n",
      "38    1/25/11\n",
      "39     2/7/11\n",
      "40    1/18/11\n",
      "41    1/11/11\n",
      "42    1/28/11\n",
      "43     2/8/11\n",
      "44    2/23/11\n",
      "45    1/25/11\n",
      "46    1/31/11\n",
      "47     1/2/11\n",
      "48     2/7/11\n",
      "49    1/18/11\n",
      "Name: effective_to_date, dtype: object\n"
     ]
    }
   ],
   "source": [
    "print(data['effective_to_date'].head(50))"
   ]
  },
  {
   "cell_type": "code",
   "execution_count": 11,
   "id": "435effb3",
   "metadata": {},
   "outputs": [],
   "source": [
    "data['month'] = pd.DatetimeIndex(data['effective_to_date']).month"
   ]
  },
  {
   "cell_type": "code",
   "execution_count": 12,
   "id": "4129a942",
   "metadata": {},
   "outputs": [],
   "source": [
    "q1_data = data[data['month'].isin([1,2,3])]"
   ]
  },
  {
   "cell_type": "code",
   "execution_count": 13,
   "id": "45b1fefb",
   "metadata": {},
   "outputs": [
    {
     "name": "stdout",
     "output_type": "stream",
     "text": [
      "   customer       state  customer_lifetime_value response  coverage  \\\n",
      "0   BU79786  Washington              2763.519279       No     Basic   \n",
      "1   QZ44356     Arizona              6979.535903       No  Extended   \n",
      "2   AI49188      Nevada             12887.431650       No   Premium   \n",
      "3   WW63253  California              7645.861827       No     Basic   \n",
      "4   HB64268  Washington              2813.692575       No     Basic   \n",
      "5   OC83172      Oregon              8256.297800      Yes     Basic   \n",
      "6   XZ87318      Oregon              5380.898636      Yes     Basic   \n",
      "7   CF85061     Arizona              7216.100311       No   Premium   \n",
      "8   DY87989      Oregon             24127.504020      Yes     Basic   \n",
      "9   BQ94931      Oregon              7388.178085       No  Extended   \n",
      "10  SX51350  California              4738.992022       No     Basic   \n",
      "11  VQ65197  California              8197.197078       No     Basic   \n",
      "12  DP39365  California              8798.797003       No   Premium   \n",
      "13  SJ95423     Arizona              8819.018934      Yes     Basic   \n",
      "\n",
      "               education effective_to_date employmentstatus gender  income  \\\n",
      "0               Bachelor           2/24/11         Employed      F   56274   \n",
      "1               Bachelor           1/31/11       Unemployed      F       0   \n",
      "2               Bachelor           2/19/11         Employed      F   48767   \n",
      "3               Bachelor           1/20/11       Unemployed      M       0   \n",
      "4               Bachelor            2/3/11         Employed      M   43836   \n",
      "5               Bachelor           1/25/11         Employed      F   62902   \n",
      "6                College           2/24/11         Employed      F   55350   \n",
      "7                 Master           1/18/11       Unemployed      M       0   \n",
      "8               Bachelor           1/26/11    Medical Leave      M   14072   \n",
      "9                College           2/17/11         Employed      F   28812   \n",
      "10               College           2/21/11       Unemployed      M       0   \n",
      "11               College            1/6/11       Unemployed      F       0   \n",
      "12                Master            2/6/11         Employed      M   77026   \n",
      "13  High School or Below           1/10/11         Employed      M   99845   \n",
      "\n",
      "    ... number_of_open_complaints number_of_policies     policy_type  \\\n",
      "0   ...                         0                  1  Corporate Auto   \n",
      "1   ...                         0                  8   Personal Auto   \n",
      "2   ...                         0                  2   Personal Auto   \n",
      "3   ...                         0                  7  Corporate Auto   \n",
      "4   ...                         0                  1   Personal Auto   \n",
      "5   ...                         0                  2   Personal Auto   \n",
      "6   ...                         0                  9  Corporate Auto   \n",
      "7   ...                         0                  4  Corporate Auto   \n",
      "8   ...                         0                  2  Corporate Auto   \n",
      "9   ...                         0                  8    Special Auto   \n",
      "10  ...                         0                  3   Personal Auto   \n",
      "11  ...                         0                  3   Personal Auto   \n",
      "12  ...                         2                  3  Corporate Auto   \n",
      "13  ...                         1                  8  Corporate Auto   \n",
      "\n",
      "          policy  renew_offer_type  sales_channel  total_claim_amount  \\\n",
      "0   Corporate L3            Offer1          Agent          384.811147   \n",
      "1    Personal L3            Offer3          Agent         1131.464935   \n",
      "2    Personal L3            Offer1          Agent          566.472247   \n",
      "3   Corporate L2            Offer1    Call Center          529.881344   \n",
      "4    Personal L1            Offer1          Agent          138.130879   \n",
      "5    Personal L3            Offer2            Web          159.383042   \n",
      "6   Corporate L3            Offer1          Agent          321.600000   \n",
      "7   Corporate L3            Offer1          Agent          363.029680   \n",
      "8   Corporate L3            Offer1          Agent          511.200000   \n",
      "9     Special L2            Offer2         Branch          425.527834   \n",
      "10   Personal L3            Offer1          Agent          482.400000   \n",
      "11   Personal L3            Offer2          Agent          528.000000   \n",
      "12  Corporate L1            Offer2          Agent          472.029737   \n",
      "13  Corporate L3            Offer2         Branch          528.000000   \n",
      "\n",
      "    vehicle_class vehicle_size month  \n",
      "0    Two-Door Car      Medsize     2  \n",
      "1   Four-Door Car      Medsize     1  \n",
      "2    Two-Door Car      Medsize     2  \n",
      "3             SUV      Medsize     1  \n",
      "4   Four-Door Car      Medsize     2  \n",
      "5    Two-Door Car      Medsize     1  \n",
      "6   Four-Door Car      Medsize     2  \n",
      "7   Four-Door Car      Medsize     1  \n",
      "8   Four-Door Car      Medsize     1  \n",
      "9   Four-Door Car      Medsize     2  \n",
      "10  Four-Door Car        Small     2  \n",
      "11            SUV      Medsize     1  \n",
      "12  Four-Door Car      Medsize     2  \n",
      "13            SUV      Medsize     1  \n",
      "\n",
      "[14 rows x 25 columns]\n"
     ]
    }
   ],
   "source": [
    "print(q1_data.head(14))"
   ]
  },
  {
   "cell_type": "code",
   "execution_count": 14,
   "id": "2fae1c01",
   "metadata": {},
   "outputs": [],
   "source": [
    "def transform_data(df):\n",
    "    # Standardizar nombres de las columnas\n",
    "    df.columns = df.columns.str.lower().str.replace(' ', '_')\n",
    "    # Identificar columnas numéricas\n",
    "    num_cols = df.select_dtypes(include=[np.number]).columns.tolist()\n",
    "\n",
    "    # Identificar columnas categóricas\n",
    "    cat_cols = df.select_dtypes(include=['object']).columns.tolist()\n",
    "\n",
    "    # Verificar valores nulos y tratarlos si existen\n",
    "    null_counts = df.isnull().sum()\n",
    "    if null_counts.sum() > 0:\n",
    "        df = df.dropna()\n",
    "        print(\"Null values treated.\")\n",
    "\n",
    "    # Extraer meses de la columna de fecha y almacenarlos en una columna separada\n",
    "    df['month'] = pd.DatetimeIndex(df['effective_to_date']).month\n",
    "\n",
    "    # Filtrar datos solo para el primer trimestre (enero, febrero, marzo)\n",
    "    q1_data = df[df['month'].isin([1,2,3])]\n",
    "\n",
    "    return q1_data"
   ]
  },
  {
   "cell_type": "code",
   "execution_count": 15,
   "id": "4f793c0f",
   "metadata": {},
   "outputs": [
    {
     "name": "stdout",
     "output_type": "stream",
     "text": [
      "<function transform_data at 0x00000216DE0BB5E0>\n"
     ]
    }
   ],
   "source": [
    "print (transform_data)"
   ]
  },
  {
   "cell_type": "code",
   "execution_count": 16,
   "id": "65028115",
   "metadata": {},
   "outputs": [],
   "source": [
    "import matplotlib.pyplot as plt\n"
   ]
  },
  {
   "cell_type": "code",
   "execution_count": 18,
   "id": "3e6217dd-9b04-4c2a-82db-8ec45cd7abad",
   "metadata": {},
   "outputs": [],
   "source": [
    "df = pd.read_csv('files_for_lab/csv_files/marketing_customer_analysis.csv')"
   ]
  },
  {
   "cell_type": "code",
   "execution_count": 19,
   "id": "e0b48faf-532f-499a-a92b-ce3a60ddfb48",
   "metadata": {},
   "outputs": [
    {
     "name": "stdout",
     "output_type": "stream",
     "text": [
      "<class 'pandas.core.frame.DataFrame'>\n",
      "RangeIndex: 9134 entries, 0 to 9133\n",
      "Data columns (total 24 columns):\n",
      " #   Column                         Non-Null Count  Dtype  \n",
      "---  ------                         --------------  -----  \n",
      " 0   Customer                       9134 non-null   object \n",
      " 1   State                          9134 non-null   object \n",
      " 2   Customer Lifetime Value        9134 non-null   float64\n",
      " 3   Response                       9134 non-null   object \n",
      " 4   Coverage                       9134 non-null   object \n",
      " 5   Education                      9134 non-null   object \n",
      " 6   Effective To Date              9134 non-null   object \n",
      " 7   EmploymentStatus               9134 non-null   object \n",
      " 8   Gender                         9134 non-null   object \n",
      " 9   Income                         9134 non-null   int64  \n",
      " 10  Location Code                  9134 non-null   object \n",
      " 11  Marital Status                 9134 non-null   object \n",
      " 12  Monthly Premium Auto           9134 non-null   int64  \n",
      " 13  Months Since Last Claim        9134 non-null   int64  \n",
      " 14  Months Since Policy Inception  9134 non-null   int64  \n",
      " 15  Number of Open Complaints      9134 non-null   int64  \n",
      " 16  Number of Policies             9134 non-null   int64  \n",
      " 17  Policy Type                    9134 non-null   object \n",
      " 18  Policy                         9134 non-null   object \n",
      " 19  Renew Offer Type               9134 non-null   object \n",
      " 20  Sales Channel                  9134 non-null   object \n",
      " 21  Total Claim Amount             9134 non-null   float64\n",
      " 22  Vehicle Class                  9134 non-null   object \n",
      " 23  Vehicle Size                   9134 non-null   object \n",
      "dtypes: float64(2), int64(6), object(16)\n",
      "memory usage: 1.7+ MB\n"
     ]
    }
   ],
   "source": [
    "df.info()"
   ]
  },
  {
   "cell_type": "code",
   "execution_count": 20,
   "id": "8776d99e-2153-478d-8d11-bbddad0ee439",
   "metadata": {},
   "outputs": [
    {
     "data": {
      "text/html": [
       "<div>\n",
       "<style scoped>\n",
       "    .dataframe tbody tr th:only-of-type {\n",
       "        vertical-align: middle;\n",
       "    }\n",
       "\n",
       "    .dataframe tbody tr th {\n",
       "        vertical-align: top;\n",
       "    }\n",
       "\n",
       "    .dataframe thead th {\n",
       "        text-align: right;\n",
       "    }\n",
       "</style>\n",
       "<table border=\"1\" class=\"dataframe\">\n",
       "  <thead>\n",
       "    <tr style=\"text-align: right;\">\n",
       "      <th></th>\n",
       "      <th>Customer Lifetime Value</th>\n",
       "      <th>Income</th>\n",
       "      <th>Monthly Premium Auto</th>\n",
       "      <th>Months Since Last Claim</th>\n",
       "      <th>Months Since Policy Inception</th>\n",
       "      <th>Number of Open Complaints</th>\n",
       "      <th>Number of Policies</th>\n",
       "      <th>Total Claim Amount</th>\n",
       "    </tr>\n",
       "  </thead>\n",
       "  <tbody>\n",
       "    <tr>\n",
       "      <th>count</th>\n",
       "      <td>9134.000000</td>\n",
       "      <td>9134.000000</td>\n",
       "      <td>9134.000000</td>\n",
       "      <td>9134.000000</td>\n",
       "      <td>9134.000000</td>\n",
       "      <td>9134.000000</td>\n",
       "      <td>9134.000000</td>\n",
       "      <td>9134.000000</td>\n",
       "    </tr>\n",
       "    <tr>\n",
       "      <th>mean</th>\n",
       "      <td>8004.940475</td>\n",
       "      <td>37657.380009</td>\n",
       "      <td>93.219291</td>\n",
       "      <td>15.097000</td>\n",
       "      <td>48.064594</td>\n",
       "      <td>0.384388</td>\n",
       "      <td>2.966170</td>\n",
       "      <td>434.088794</td>\n",
       "    </tr>\n",
       "    <tr>\n",
       "      <th>std</th>\n",
       "      <td>6870.967608</td>\n",
       "      <td>30379.904734</td>\n",
       "      <td>34.407967</td>\n",
       "      <td>10.073257</td>\n",
       "      <td>27.905991</td>\n",
       "      <td>0.910384</td>\n",
       "      <td>2.390182</td>\n",
       "      <td>290.500092</td>\n",
       "    </tr>\n",
       "    <tr>\n",
       "      <th>min</th>\n",
       "      <td>1898.007675</td>\n",
       "      <td>0.000000</td>\n",
       "      <td>61.000000</td>\n",
       "      <td>0.000000</td>\n",
       "      <td>0.000000</td>\n",
       "      <td>0.000000</td>\n",
       "      <td>1.000000</td>\n",
       "      <td>0.099007</td>\n",
       "    </tr>\n",
       "    <tr>\n",
       "      <th>25%</th>\n",
       "      <td>3994.251794</td>\n",
       "      <td>0.000000</td>\n",
       "      <td>68.000000</td>\n",
       "      <td>6.000000</td>\n",
       "      <td>24.000000</td>\n",
       "      <td>0.000000</td>\n",
       "      <td>1.000000</td>\n",
       "      <td>272.258244</td>\n",
       "    </tr>\n",
       "    <tr>\n",
       "      <th>50%</th>\n",
       "      <td>5780.182197</td>\n",
       "      <td>33889.500000</td>\n",
       "      <td>83.000000</td>\n",
       "      <td>14.000000</td>\n",
       "      <td>48.000000</td>\n",
       "      <td>0.000000</td>\n",
       "      <td>2.000000</td>\n",
       "      <td>383.945434</td>\n",
       "    </tr>\n",
       "    <tr>\n",
       "      <th>75%</th>\n",
       "      <td>8962.167041</td>\n",
       "      <td>62320.000000</td>\n",
       "      <td>109.000000</td>\n",
       "      <td>23.000000</td>\n",
       "      <td>71.000000</td>\n",
       "      <td>0.000000</td>\n",
       "      <td>4.000000</td>\n",
       "      <td>547.514839</td>\n",
       "    </tr>\n",
       "    <tr>\n",
       "      <th>max</th>\n",
       "      <td>83325.381190</td>\n",
       "      <td>99981.000000</td>\n",
       "      <td>298.000000</td>\n",
       "      <td>35.000000</td>\n",
       "      <td>99.000000</td>\n",
       "      <td>5.000000</td>\n",
       "      <td>9.000000</td>\n",
       "      <td>2893.239678</td>\n",
       "    </tr>\n",
       "  </tbody>\n",
       "</table>\n",
       "</div>"
      ],
      "text/plain": [
       "       Customer Lifetime Value        Income  Monthly Premium Auto  \\\n",
       "count              9134.000000   9134.000000           9134.000000   \n",
       "mean               8004.940475  37657.380009             93.219291   \n",
       "std                6870.967608  30379.904734             34.407967   \n",
       "min                1898.007675      0.000000             61.000000   \n",
       "25%                3994.251794      0.000000             68.000000   \n",
       "50%                5780.182197  33889.500000             83.000000   \n",
       "75%                8962.167041  62320.000000            109.000000   \n",
       "max               83325.381190  99981.000000            298.000000   \n",
       "\n",
       "       Months Since Last Claim  Months Since Policy Inception  \\\n",
       "count              9134.000000                    9134.000000   \n",
       "mean                 15.097000                      48.064594   \n",
       "std                  10.073257                      27.905991   \n",
       "min                   0.000000                       0.000000   \n",
       "25%                   6.000000                      24.000000   \n",
       "50%                  14.000000                      48.000000   \n",
       "75%                  23.000000                      71.000000   \n",
       "max                  35.000000                      99.000000   \n",
       "\n",
       "       Number of Open Complaints  Number of Policies  Total Claim Amount  \n",
       "count                9134.000000         9134.000000         9134.000000  \n",
       "mean                    0.384388            2.966170          434.088794  \n",
       "std                     0.910384            2.390182          290.500092  \n",
       "min                     0.000000            1.000000            0.099007  \n",
       "25%                     0.000000            1.000000          272.258244  \n",
       "50%                     0.000000            2.000000          383.945434  \n",
       "75%                     0.000000            4.000000          547.514839  \n",
       "max                     5.000000            9.000000         2893.239678  "
      ]
     },
     "execution_count": 20,
     "metadata": {},
     "output_type": "execute_result"
    }
   ],
   "source": [
    "df.describe()"
   ]
  },
  {
   "cell_type": "code",
   "execution_count": 22,
   "id": "a67dd942-9447-43f7-93e3-3aaae29e8461",
   "metadata": {},
   "outputs": [
    {
     "data": {
      "image/png": "[encoded data removed]",
      "text/plain": [
       "<Figure size 640x480 with 1 Axes>"
      ]
     },
     "metadata": {},
     "output_type": "display_data"
    }
   ],
   "source": [
    "response_counts = df['Response'].value_counts()\n",
    "response_counts.plot.bar()\n",
    "plt.show()"
   ]
  },
  {
   "cell_type": "code",
   "execution_count": 30,
   "id": "da9c561a-3406-4bf3-a563-cf3315a1ac2e",
   "metadata": {},
   "outputs": [],
   "source": [
    "df['Response'] = df['Response'].map({'Yes': 1, 'No': 0})"
   ]
  },
  {
   "cell_type": "code",
   "execution_count": 28,
   "id": "622d8a7d-5958-4795-8e5d-249844bfe389",
   "metadata": {},
   "outputs": [],
   "source": [
    "df = df.rename(columns={'Sales Channel': 'Sales_Channel'})"
   ]
  },
  {
   "cell_type": "code",
   "execution_count": 31,
   "id": "7ffc3d4f-5bfc-4653-864f-547eb5f95fed",
   "metadata": {},
   "outputs": [
    {
     "data": {
      "image/png": "[encoded data removed]",
      "text/plain": [
       "<Figure size 640x480 with 1 Axes>"
      ]
     },
     "metadata": {},
     "output_type": "display_data"
    }
   ],
   "source": [
    "response_by_channel = df.groupby('Sales_Channel')['Response'].mean()\n",
    "response_by_channel.plot.bar()\n",
    "plt.show()"
   ]
  },
  {
   "cell_type": "code",
   "execution_count": 55,
   "id": "d6110755-33c2-4445-b4bc-d5bef459c67f",
   "metadata": {},
   "outputs": [
    {
     "data": {
      "image/png": "[encoded data removed]",
      "text/plain": [
       "<Figure size 640x480 with 1 Axes>"
      ]
     },
     "metadata": {},
     "output_type": "display_data"
    }
   ],
   "source": [
    "df['claim_amount_interval'] = pd.cut(df['Total Claim Amount'], bins=[0, 500, 1000, 5000, 10000, 20000])\n",
    "response_by_claim_amount = df.groupby('claim_amount_interval')['Response'].mean()\n",
    "response_by_claim_amount.plot.bar()\n",
    "plt.show()"
   ]
  },
  {
   "cell_type": "code",
   "execution_count": 57,
   "id": "55d4e13b-94bc-47a5-8528-d8e02538d534",
   "metadata": {},
   "outputs": [
    {
     "data": {
      "image/png": "[encoded data removed]",
      "text/plain": [
       "<Figure size 640x480 with 1 Axes>"
      ]
     },
     "metadata": {},
     "output_type": "display_data"
    }
   ],
   "source": [
    "df['income_interval'] = pd.cut(df['Income'], bins=[0, 30000, 60000, 90000, 120000, 150000, 200000])\n",
    "response_by_income = df.groupby('income_interval')['Response'].mean()\n",
    "response_by_income.plot.bar()\n",
    "plt.show()"
   ]
  },
  {
   "cell_type": "code",
   "execution_count": null,
   "id": "fbbd11d8-a1ef-4e8c-9cef-8d4e52c9be95",
   "metadata": {},
   "outputs": [],
   "source": []
  }
 ],
 "metadata": {
  "kernelspec": {
   "display_name": "Python 3 (ipykernel)",
   "language": "python",
   "name": "python3"
  },
  "language_info": {
   "codemirror_mode": {
    "name": "ipython",
    "version": 3
   },
   "file_extension": ".py",
   "mimetype": "text/x-python",
   "name": "python",
   "nbconvert_exporter": "python",
   "pygments_lexer": "ipython3",
   "version": "3.9.13"
  }
 },
 "nbformat": 4,
 "nbformat_minor": 5
}
